{
  "nbformat": 4,
  "nbformat_minor": 0,
  "metadata": {
    "colab": {
      "provenance": []
    },
    "kernelspec": {
      "name": "python3",
      "display_name": "Python 3"
    },
    "language_info": {
      "name": "python"
    }
  },
  "cells": [
    {
      "cell_type": "markdown",
      "source": [
        "Basic Arithmetic and Type Identification"
      ],
      "metadata": {
        "id": "j9-IvnQxuuw_"
      }
    },
    {
      "cell_type": "markdown",
      "source": [
        "Create 3 variables: int,float& complex"
      ],
      "metadata": {
        "id": "mFXy4Kiau8Qh"
      }
    },
    {
      "cell_type": "code",
      "source": [
        "var_1=7\n",
        "var_2=7.7\n",
        "var_3=7+7j"
      ],
      "metadata": {
        "id": "fQjnh7GHu0FP"
      },
      "execution_count": 1,
      "outputs": []
    },
    {
      "cell_type": "markdown",
      "source": [
        "Print all var & use type func to confirm data types"
      ],
      "metadata": {
        "id": "zocltFnRvevr"
      }
    },
    {
      "cell_type": "code",
      "source": [
        "print(\"Varibale1:\",var_1)\n",
        "print(\"Varibale2:\",var_2)\n",
        "print(\"Varibale3:\",var_3)"
      ],
      "metadata": {
        "colab": {
          "base_uri": "https://localhost:8080/"
        },
        "id": "0ro54MLgvbId",
        "outputId": "7dcac5cc-03ed-483a-e39b-3e95ada36fb2"
      },
      "execution_count": 4,
      "outputs": [
        {
          "output_type": "stream",
          "name": "stdout",
          "text": [
            "Varibale1: 7\n",
            "Varibale2: 7.7\n",
            "Varibale3: (7+7j)\n"
          ]
        }
      ]
    },
    {
      "cell_type": "code",
      "source": [
        "print(\"DataType of Variable1:\", type(var_1))\n",
        "print(\"DataType of Variable2:\", type(var_2))\n",
        "print(\"DataType of Variable3:\", type(var_3))"
      ],
      "metadata": {
        "colab": {
          "base_uri": "https://localhost:8080/"
        },
        "id": "XjHd6J6Kvv9w",
        "outputId": "e2d28f67-ccea-4927-ebae-770d62613da4"
      },
      "execution_count": 8,
      "outputs": [
        {
          "output_type": "stream",
          "name": "stdout",
          "text": [
            "DataType of Variable1: <class 'int'>\n",
            "DataType of Variable2: <class 'float'>\n",
            "DataType of Variable3: <class 'complex'>\n"
          ]
        }
      ]
    },
    {
      "cell_type": "markdown",
      "source": [
        "Arithmetic With Mixed Types"
      ],
      "metadata": {
        "id": "MP67z_2Bw0de"
      }
    },
    {
      "cell_type": "code",
      "source": [
        "var_a=10\n",
        "var_b=7.7\n",
        "sum=var_a+var_b\n",
        "diff=var_a-var_b\n",
        "prod=var_a*var_b\n",
        "quou=var_a//var_b\n",
        "print(\"Sum of var a & b:\",sum)\n",
        "print(\"Difference var a & b:\",diff)\n",
        "print(\"Product var a & b:\",prod)\n",
        "print(\"Quotient var a & b:\",quou)\n"
      ],
      "metadata": {
        "colab": {
          "base_uri": "https://localhost:8080/"
        },
        "id": "2AL3X1H7wgBm",
        "outputId": "b95c4403-5f92-40d8-c927-131d51be6325"
      },
      "execution_count": 18,
      "outputs": [
        {
          "output_type": "stream",
          "name": "stdout",
          "text": [
            "Sum of var a & b: 17.7\n",
            "Difference var a & b: 2.3\n",
            "Product var a & b: 77.0\n",
            "Quotient var a & b: 1.0\n"
          ]
        }
      ]
    },
    {
      "cell_type": "code",
      "source": [
        "print(\"DataType of result of sum:\", type(sum))\n",
        "print(\"DataType of result of diff:\", type(diff))\n",
        "print(\"DataType of result of prod:\", type(prod))\n",
        "print(\"DataType of result of quou:\", type(quou))"
      ],
      "metadata": {
        "colab": {
          "base_uri": "https://localhost:8080/"
        },
        "id": "gqfeTGMYyAZ9",
        "outputId": "261e7453-7d9a-4551-8017-52c83449b059"
      },
      "execution_count": 19,
      "outputs": [
        {
          "output_type": "stream",
          "name": "stdout",
          "text": [
            "DataType of result of sum: <class 'float'>\n",
            "DataType of result of diff: <class 'float'>\n",
            "DataType of result of prod: <class 'float'>\n",
            "DataType of result of quou: <class 'float'>\n"
          ]
        }
      ]
    },
    {
      "cell_type": "markdown",
      "source": [
        "Comparision Operator"
      ],
      "metadata": {
        "id": "3jaSS93XzGDk"
      }
    },
    {
      "cell_type": "code",
      "source": [
        "x=10\n",
        "y=7\n",
        "print(\"x > y :\",x>y) #Result of x>y is True because x is 10 & y is 7.\n",
        "print(\"x < y :\",x<y) #Result of x<y is False because y is 7 & x is 10.\n",
        "print(\"x == y :\",x==y) # Because of the value of the both varible is differnt.\n",
        "print(\"x != y :\",x!=y) # Because the value of the both varibale is not equal."
      ],
      "metadata": {
        "colab": {
          "base_uri": "https://localhost:8080/"
        },
        "id": "AeMVf_rGyNA8",
        "outputId": "8eb0b133-35cf-4cc3-a94c-63802b491413"
      },
      "execution_count": 22,
      "outputs": [
        {
          "output_type": "stream",
          "name": "stdout",
          "text": [
            "x > y : True\n",
            "x < y : False\n",
            "x == y : False\n",
            "x != y : True\n"
          ]
        }
      ]
    },
    {
      "cell_type": "markdown",
      "source": [
        "Boolean Variables"
      ],
      "metadata": {
        "id": "2fKY0i1-0EPx"
      }
    },
    {
      "cell_type": "code",
      "source": [
        "status=True\n",
        "print(\"Status is:\",status)\n",
        "print(\"Data type of status varibale is:\",type(status))"
      ],
      "metadata": {
        "colab": {
          "base_uri": "https://localhost:8080/"
        },
        "id": "vIMXB2nbzRC_",
        "outputId": "4ca1eed7-be04-426a-beee-0dc5c67a27d3"
      },
      "execution_count": 24,
      "outputs": [
        {
          "output_type": "stream",
          "name": "stdout",
          "text": [
            "Status is: True\n",
            "Data type of status varibale is: <class 'bool'>\n"
          ]
        }
      ]
    },
    {
      "cell_type": "code",
      "source": [
        "status=False\n",
        "print(\"Status is:\",status)\n",
        "print(\"Data type of status varibale is:\",type(status))"
      ],
      "metadata": {
        "colab": {
          "base_uri": "https://localhost:8080/"
        },
        "id": "6Rc0z8Ft0Srn",
        "outputId": "783dfd79-51a8-4d6e-8f41-eeb06c125ccb"
      },
      "execution_count": 25,
      "outputs": [
        {
          "output_type": "stream",
          "name": "stdout",
          "text": [
            "Status is: False\n",
            "Data type of status varibale is: <class 'bool'>\n"
          ]
        }
      ]
    },
    {
      "cell_type": "markdown",
      "source": [
        "String Creation and Length"
      ],
      "metadata": {
        "id": "0uWfU4Qu0vVk"
      }
    },
    {
      "cell_type": "code",
      "source": [
        "my_name='Md Kalam'\n",
        "print(\"Length of my name is:\",len(my_name))\n",
        "print(\"Data type of my name is:\",type(my_name))"
      ],
      "metadata": {
        "colab": {
          "base_uri": "https://localhost:8080/"
        },
        "id": "tgsrR7AD0qVa",
        "outputId": "11749bb2-48b9-4dd6-8aa6-18b78da2a54c"
      },
      "execution_count": 28,
      "outputs": [
        {
          "output_type": "stream",
          "name": "stdout",
          "text": [
            "Length of my name is: 8\n",
            "Data type of my name is: <class 'str'>\n"
          ]
        }
      ]
    },
    {
      "cell_type": "markdown",
      "source": [
        "String Indexing"
      ],
      "metadata": {
        "id": "F-ikZ0IK1XM2"
      }
    },
    {
      "cell_type": "code",
      "source": [
        "s=\"Python\"\n",
        "print(s[0])\n",
        "print(s[1])\n",
        "print(s[2])\n",
        "print(s[3])\n",
        "print(s[4])\n",
        "print(s[5])"
      ],
      "metadata": {
        "colab": {
          "base_uri": "https://localhost:8080/"
        },
        "id": "5LSHhiR21IOf",
        "outputId": "6371dc5d-1f91-4cb4-9dee-9b94ae2601e2"
      },
      "execution_count": 49,
      "outputs": [
        {
          "output_type": "stream",
          "name": "stdout",
          "text": [
            "P\n",
            "y\n",
            "t\n",
            "h\n",
            "o\n",
            "n\n"
          ]
        }
      ]
    },
    {
      "cell_type": "code",
      "source": [
        "first_char=s[-6]\n",
        "second_char=s[-1]\n",
        "print(\"First character:\",first_char)\n",
        "print(\"Second character:\",second_char)"
      ],
      "metadata": {
        "colab": {
          "base_uri": "https://localhost:8080/"
        },
        "id": "fxnfVZlS1iNb",
        "outputId": "cfe4ddbc-2cb9-4e47-f913-0090a6673d65"
      },
      "execution_count": 36,
      "outputs": [
        {
          "output_type": "stream",
          "name": "stdout",
          "text": [
            "First character: P\n",
            "Second character: n\n"
          ]
        }
      ]
    },
    {
      "cell_type": "markdown",
      "source": [
        "String Sclicing"
      ],
      "metadata": {
        "id": "_ZTISvt63282"
      }
    },
    {
      "cell_type": "code",
      "source": [
        "lang=\"Programming\"\n",
        "print(lang[0:4])\n",
        "print(lang[3:])\n",
        "print(lang[2:-2])"
      ],
      "metadata": {
        "colab": {
          "base_uri": "https://localhost:8080/"
        },
        "id": "16gcsmCP32sA",
        "outputId": "6f6b7ef4-3d10-4689-8a18-b4d48757106a"
      },
      "execution_count": 52,
      "outputs": [
        {
          "output_type": "stream",
          "name": "stdout",
          "text": [
            "Prog\n",
            "gramming\n",
            "ogrammi\n"
          ]
        }
      ]
    },
    {
      "cell_type": "markdown",
      "source": [
        "Exploring len() on slices"
      ],
      "metadata": {
        "id": "2HdeWzvF5hUt"
      }
    },
    {
      "cell_type": "code",
      "source": [
        "lang[0:7]\n",
        "part1=lang[0:7]\n",
        "print(\"Length of part1:\",len(part1)) #lang has 11 charcater and we have sliced program that has only 7 characters\n",
        "print(\"Length of lang:\",len(lang))"
      ],
      "metadata": {
        "colab": {
          "base_uri": "https://localhost:8080/"
        },
        "id": "PLbtMTdw1z0E",
        "outputId": "224d83ae-7197-4a29-bd4f-9b66d978f0ca"
      },
      "execution_count": 61,
      "outputs": [
        {
          "output_type": "stream",
          "name": "stdout",
          "text": [
            "Length of part1: 7\n",
            "Length of lang: 11\n"
          ]
        }
      ]
    },
    {
      "cell_type": "markdown",
      "source": [
        "String Methods"
      ],
      "metadata": {
        "id": "juFWGoqC7WLy"
      }
    },
    {
      "cell_type": "markdown",
      "source": [
        "Case Conversion"
      ],
      "metadata": {
        "id": "yvlq6Mvz7d2k"
      }
    },
    {
      "cell_type": "code",
      "source": [
        "phrase = \"Hello, Python!\"\n",
        "print(\"Uppercase:\", phrase.upper())\n",
        "print(\"Lowercase:\", phrase.lower())\n",
        "print(\"Original phrase:\", phrase)\n"
      ],
      "metadata": {
        "colab": {
          "base_uri": "https://localhost:8080/"
        },
        "id": "0VPu-EdS7uCa",
        "outputId": "72c67cfa-f73a-4054-8c18-ef95e56b0460"
      },
      "execution_count": 65,
      "outputs": [
        {
          "output_type": "stream",
          "name": "stdout",
          "text": [
            "Uppercase: HELLO, PYTHON!\n",
            "Lowercase: hello, python!\n",
            "Original phrase: Hello, Python!\n"
          ]
        }
      ]
    },
    {
      "cell_type": "markdown",
      "source": [
        "Combining Strings"
      ],
      "metadata": {
        "id": "awcju-j28dbR"
      }
    },
    {
      "cell_type": "code",
      "source": [
        "str1=\"Data \"\n",
        "str2=\"Science\"\n",
        "result=str1+str2\n",
        "print(\"Combination of both strings:\",result)\n",
        "print(\"Length of the combined strings:\",len(result))"
      ],
      "metadata": {
        "colab": {
          "base_uri": "https://localhost:8080/"
        },
        "id": "h2DhR7Uv8CXE",
        "outputId": "180de79a-3b1c-4231-a6f9-269fdfaa3db8"
      },
      "execution_count": 71,
      "outputs": [
        {
          "output_type": "stream",
          "name": "stdout",
          "text": [
            "Combination of both strings: Data Science\n",
            "Length of the combined strings: 12\n"
          ]
        }
      ]
    },
    {
      "cell_type": "markdown",
      "source": [
        "In-place vs Reassignment with String methods"
      ],
      "metadata": {
        "id": "i9BOK2b69V7F"
      }
    },
    {
      "cell_type": "code",
      "source": [
        "word = \"example\"\n",
        "word.upper()  #this create new uppercase str but we have not stored it, so it will be as it is.\n",
        "print(\"Without assignment:\", word)  #word is still word without assignment that is \"example\"\n",
        "word = word.upper()\n",
        "print(\"After reassignment:\", word)  #Now after we re assigned the word to word.upper() it will became \"EXAMPLE\"\n"
      ],
      "metadata": {
        "colab": {
          "base_uri": "https://localhost:8080/"
        },
        "id": "mQvWEVJr83XE",
        "outputId": "c563e931-eb0a-4945-c5e9-65a702f10176"
      },
      "execution_count": 75,
      "outputs": [
        {
          "output_type": "stream",
          "name": "stdout",
          "text": [
            "Without assignment: example\n",
            "After reassignment: EXAMPLE\n"
          ]
        }
      ]
    },
    {
      "cell_type": "markdown",
      "source": [
        "Arithmetic operator Precedence"
      ],
      "metadata": {
        "id": "S5xs-D4k_CNZ"
      }
    },
    {
      "cell_type": "code",
      "source": [
        "a=5\n",
        "b=3\n",
        "c=2\n",
        "result_1=a+b*c\n",
        "result_2=(a+b)*c\n",
        "print(\"Result of expression a+b*c:\",result_1)\n",
        "print(\"Result of expression (a+b)*c:\",result_2)\n",
        "#In a+b*c  (*) has higher precedence than(+) so b*c  calculated 1st & then added\n",
        "#In(a + b)*c\" , () have the highest precedence,  a+b is calculated 1st & then multiplied by c"
      ],
      "metadata": {
        "colab": {
          "base_uri": "https://localhost:8080/"
        },
        "id": "SGl7yK0j9t18",
        "outputId": "760f0f45-ed5a-4da4-85ea-765776a9f618"
      },
      "execution_count": 78,
      "outputs": [
        {
          "output_type": "stream",
          "name": "stdout",
          "text": [
            "Result of expression a+b*c: 11\n",
            "Result of expression (a+b)*c: 16\n"
          ]
        }
      ]
    },
    {
      "cell_type": "markdown",
      "source": [
        "String index out of range"
      ],
      "metadata": {
        "id": "u_0XhY0PBKDw"
      }
    },
    {
      "cell_type": "code",
      "source": [
        "text='Hello'\n",
        "text[10]\n",
        "#it give error of the string index out range  because in python we start positive from 0 to ... from left to right so in that casewe have Hello string that ranges from 0 to 4 only & We are printing text[10]that means 0 to 9. thats why it is giving error \"\"\""
      ],
      "metadata": {
        "colab": {
          "base_uri": "https://localhost:8080/",
          "height": 176
        },
        "id": "aKmfp5qo_s61",
        "outputId": "2475d298-b9a3-4b9c-b0c7-42c2b8f7cac7"
      },
      "execution_count": 81,
      "outputs": [
        {
          "output_type": "error",
          "ename": "IndexError",
          "evalue": "string index out of range",
          "traceback": [
            "\u001b[0;31m---------------------------------------------------------------------------\u001b[0m",
            "\u001b[0;31mIndexError\u001b[0m                                Traceback (most recent call last)",
            "\u001b[0;32m<ipython-input-81-494058c593db>\u001b[0m in \u001b[0;36m<cell line: 0>\u001b[0;34m()\u001b[0m\n\u001b[1;32m      4\u001b[0m              \u001b[0mwe\u001b[0m \u001b[0mhave\u001b[0m \u001b[0mHello\u001b[0m \u001b[0mstring\u001b[0m \u001b[0mthat\u001b[0m \u001b[0mranges\u001b[0m \u001b[0;32mfrom\u001b[0m \u001b[0;36m0\u001b[0m \u001b[0mto\u001b[0m \u001b[0;36m4\u001b[0m \u001b[0monly\u001b[0m \u001b[0;34m&\u001b[0m \u001b[0mWe\u001b[0m \u001b[0mare\u001b[0m \u001b[0mprinting\u001b[0m\u001b[0;34m\u001b[0m\u001b[0;34m\u001b[0m\u001b[0m\n\u001b[1;32m      5\u001b[0m              text[10]that means 0 to 9. thats why it is giving error \"\"\"\n\u001b[0;32m----> 6\u001b[0;31m \u001b[0mtext\u001b[0m\u001b[0;34m[\u001b[0m\u001b[0;36m10\u001b[0m\u001b[0;34m]\u001b[0m\u001b[0;34m\u001b[0m\u001b[0;34m\u001b[0m\u001b[0m\n\u001b[0m",
            "\u001b[0;31mIndexError\u001b[0m: string index out of range"
          ]
        }
      ]
    },
    {
      "cell_type": "markdown",
      "source": [
        "Equality vs Identity Check"
      ],
      "metadata": {
        "id": "mABAFvYoDHPD"
      }
    },
    {
      "cell_type": "code",
      "source": [
        "s1='test'\n",
        "s2='test'\n",
        "print(\"Comparing using == operator:\",s1==s2)  #it checks value of s1 and s2 are same\n",
        "print(\"Comparing using is operator:\",s1 is s2) # it checks weather the s1 and s2 refers to same memory location\n"
      ],
      "metadata": {
        "colab": {
          "base_uri": "https://localhost:8080/"
        },
        "id": "dotSe1xYBTnU",
        "outputId": "db0f920b-a499-4832-c985-0b2a3a16b027"
      },
      "execution_count": 82,
      "outputs": [
        {
          "output_type": "stream",
          "name": "stdout",
          "text": [
            "Comparing using == operator: True\n",
            "Comparing using is operator: True\n"
          ]
        }
      ]
    },
    {
      "cell_type": "markdown",
      "source": [
        "Creating and checking a complex number"
      ],
      "metadata": {
        "id": "Iln1BcKcDumQ"
      }
    },
    {
      "cell_type": "code",
      "source": [
        "z=3+4j\n",
        "print(\"Real part:\",z.real)\n",
        "print(\"Imag part:\",z.imag)\n",
        "print(\"Data type of z:\",type(z))"
      ],
      "metadata": {
        "colab": {
          "base_uri": "https://localhost:8080/"
        },
        "id": "GojUcyd3ETHW",
        "outputId": "f082a0c2-c2ea-42d6-f259-d485385383c2"
      },
      "execution_count": 85,
      "outputs": [
        {
          "output_type": "stream",
          "name": "stdout",
          "text": [
            "Real part: 3.0\n",
            "Imag part: 4.0\n",
            "Data type of z: <class 'complex'>\n"
          ]
        }
      ]
    },
    {
      "cell_type": "markdown",
      "source": [
        "Comparision with float"
      ],
      "metadata": {
        "id": "7TErEPNtErP9"
      }
    },
    {
      "cell_type": "code",
      "source": [
        "f1=0.1+0.2 #is not equal to 0.3\n",
        "f2=0.3  #is exactly 0.3\n",
        "print(\"f1==f2:\",f1==f2) #it gives false because of floating point representation in binary\n",
        "print(\"f1:\",f1)\n",
        "print(\"f2:\",f2)"
      ],
      "metadata": {
        "colab": {
          "base_uri": "https://localhost:8080/"
        },
        "id": "u4T911hzEfWY",
        "outputId": "4514133d-4013-4469-8e4b-4bd870e801c2"
      },
      "execution_count": 87,
      "outputs": [
        {
          "output_type": "stream",
          "name": "stdout",
          "text": [
            "f1==f2: False\n",
            "f1: 0.30000000000000004\n",
            "f2: 0.3\n"
          ]
        }
      ]
    }
  ]
}